{
 "cells": [
  {
   "cell_type": "code",
   "execution_count": 9,
   "metadata": {
    "collapsed": true,
    "pycharm": {
     "is_executing": false
    }
   },
   "outputs": [],
   "source": [
    "import numpy as np\n",
    "import matplotlib.pyplot as plt\n",
    "import pickle"
   ]
  },
  {
   "cell_type": "markdown",
   "source": [
    "forward modeling function\n",
    "\n"
   ],
   "metadata": {
    "collapsed": false
   }
  },
  {
   "cell_type": "code",
   "execution_count": 10,
   "outputs": [],
   "source": [
    "# SP forward function\n",
    "def SPfunc(x_inp, par):\n",
    "    var_x0 = par[0]\n",
    "    var_alpha = par[1]\n",
    "    var_h = par[2]\n",
    "    var_k = par[3]\n",
    "\n",
    "    var_sp = []\n",
    "    for i in x_inp:\n",
    "        var_up = (i - var_x0) * np.cos(var_alpha) - var_h * np.sin(var_alpha)\n",
    "        var_down = ((i - var_x0)*(i - var_x0) + var_h*var_h) ** (3/2)\n",
    "        var = var_k * (var_up / var_down)\n",
    "        var_sp.append(var)\n",
    "\n",
    "    # === give noise for data (Gaussian Noise) 1\n",
    "    std_noise = 10  # = %\n",
    "    mean_noise = 0\n",
    "    noise_data = np.random.normal(mean_noise, np.sqrt(std_noise), len(var_sp))\n",
    "    var_sp_noise = var_sp + noise_data\n",
    "\n",
    "    return var_sp, var_sp_noise, noise_data"
   ],
   "metadata": {
    "collapsed": false,
    "pycharm": {
     "name": "#%%\n",
     "is_executing": false
    }
   }
  },
  {
   "cell_type": "code",
   "execution_count": 11,
   "outputs": [],
   "source": [
    "# === TEST FORWARD MODELING\n",
    "x0 = 77.07  # m\n",
    "alpha = 309.37 * (np.pi/180)    # deg2rad\n",
    "h = 41.81   # m\n",
    "K = 94686\n"
   ],
   "metadata": {
    "collapsed": false,
    "pycharm": {
     "name": "#%%\n",
     "is_executing": false
    }
   }
  },
  {
   "cell_type": "markdown",
   "source": [
    "Calculating data\n"
   ],
   "metadata": {
    "collapsed": false
   }
  },
  {
   "cell_type": "code",
   "execution_count": 12,
   "outputs": [
    {
     "name": "stdout",
     "text": [
      "number of data:  101\n"
     ],
     "output_type": "stream"
    }
   ],
   "source": [
    "measure_loc = np.linspace(0, 150, 101)  # Location of measurement\n",
    "print('number of data: ', len(measure_loc))\n",
    "par_mod = [x0, alpha, h, K]      # model parameter of subsurface\n",
    "\n",
    "get_SPData, get_SPData_noise, noise_from_maxData = SPfunc(measure_loc, par_mod)   # forward modeling test\n",
    "\n",
    "\n"
   ],
   "metadata": {
    "collapsed": false,
    "pycharm": {
     "name": "#%%\n",
     "is_executing": false
    }
   }
  },
  {
   "cell_type": "markdown",
   "source": [
    "Plotting\n",
    "\n"
   ],
   "metadata": {
    "collapsed": false
   }
  },
  {
   "cell_type": "code",
   "execution_count": 13,
   "outputs": [
    {
     "data": {
      "text/plain": "<Figure size 432x288 with 1 Axes>",
      "image/png": "[encoded data removed]"
     },
     "metadata": {
      "needs_background": "light"
     },
     "output_type": "display_data"
    },
    {
     "data": {
      "text/plain": "<Figure size 432x288 with 1 Axes>",
      "image/png": "[encoded data removed]"
     },
     "metadata": {
      "needs_background": "light"
     },
     "output_type": "display_data"
    }
   ],
   "source": [
    "plt.figure()\n",
    "plt.plot(measure_loc, get_SPData, 'b.')\n",
    "plt.plot(measure_loc, get_SPData_noise, 'r*')\n",
    "plt.xlim([0, 150])\n",
    "plt.ylim([-10, 50])\n",
    "plt.xlabel('position (m)')\n",
    "plt.ylabel('SP data (mV)')\n",
    "plt.legend(['ori', 'noise'])\n",
    "plt.grid()\n",
    "\n",
    "plt.figure()\n",
    "plt.hist(noise_from_maxData, density=True, bins=20)\n",
    "plt.ylabel('noise distribution')\n",
    "plt.show()\n",
    "\n"
   ],
   "metadata": {
    "collapsed": false,
    "pycharm": {
     "name": "#%%\n",
     "is_executing": false
    }
   }
  },
  {
   "cell_type": "markdown",
   "source": [
    "Save output"
   ],
   "metadata": {
    "collapsed": false
   }
  },
  {
   "cell_type": "code",
   "execution_count": 15,
   "outputs": [],
   "source": [
    "with open('SP_syn_data.pickle', 'wb') as f:\n",
    "    pickle.dump([measure_loc, get_SPData_noise], f)\n",
    "\n"
   ],
   "metadata": {
    "collapsed": false,
    "pycharm": {
     "name": "#%%\n",
     "is_executing": false
    }
   }
  }
 ],
 "metadata": {
  "language_info": {
   "codemirror_mode": {
    "name": "ipython",
    "version": 2
   },
   "file_extension": ".py",
   "mimetype": "text/x-python",
   "name": "python",
   "nbconvert_exporter": "python",
   "pygments_lexer": "ipython2",
   "version": "2.7.6"
  },
  "kernelspec": {
   "name": "python3",
   "language": "python",
   "display_name": "Python 3"
  },
  "pycharm": {
   "stem_cell": {
    "cell_type": "raw",
    "source": [],
    "metadata": {
     "collapsed": false
    }
   }
  }
 },
 "nbformat": 4,
 "nbformat_minor": 0
}
