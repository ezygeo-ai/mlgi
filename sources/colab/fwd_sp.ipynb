{
  "nbformat": 4,
  "nbformat_minor": 0,
  "metadata": {
    "colab": {
      "name": "fwd_sp.ipynb",
      "provenance": [],
      "authorship_tag": "ABX9TyOysqdO+2llk3pAYhGs8XMd",
      "include_colab_link": true
    },
    "kernelspec": {
      "name": "python3",
      "display_name": "Python 3"
    }
  },
  "cells": [
    {
      "cell_type": "markdown",
      "metadata": {
        "id": "view-in-github",
        "colab_type": "text"
      },
      "source": [
        "<a href=\"https://colab.research.google.com/github/mheriyanto/Data-Science-and-Machine-Learning-References/blob/master/fwd_sp.ipynb\" target=\"_parent\"><img src=\"https://colab.research.google.com/assets/colab-badge.svg\" alt=\"Open In Colab\"/></a>"
      ]
    },
    {
      "cell_type": "code",
      "metadata": {
        "id": "zhr-vc8qNbdU",
        "colab_type": "code",
        "colab": {}
      },
      "source": [
        "import numpy as np\n",
        "import matplotlib.pyplot as plt\n",
        "import pickle"
      ],
      "execution_count": 0,
      "outputs": []
    },
    {
      "cell_type": "markdown",
      "metadata": {
        "id": "H3-_x3aNOHDE",
        "colab_type": "text"
      },
      "source": [
        "forward modeling function"
      ]
    },
    {
      "cell_type": "code",
      "metadata": {
        "id": "n6f4ITP8OL5P",
        "colab_type": "code",
        "colab": {}
      },
      "source": [
        "# SP forward function\n",
        "def SPfunc(x_inp, par):\n",
        "    var_x0 = par[0]\n",
        "    var_alpha = par[1]\n",
        "    var_h = par[2]\n",
        "    var_k = par[3]\n",
        "\n",
        "    var_sp = []\n",
        "    for i in x_inp:\n",
        "        var_up = (i - var_x0) * np.cos(var_alpha) - var_h * np.sin(var_alpha)\n",
        "        var_down = ((i - var_x0)*(i - var_x0) + var_h*var_h) ** (3/2)\n",
        "        var = var_k * (var_up / var_down)\n",
        "        var_sp.append(var)\n",
        "\n",
        "    # === give noise for data (Gaussian Noise) 1\n",
        "    std_noise = 10  # = %\n",
        "    mean_noise = 0\n",
        "    noise_data = np.random.normal(mean_noise, np.sqrt(std_noise), len(var_sp))\n",
        "    var_sp_noise = var_sp + noise_data\n",
        "\n",
        "    return var_sp, var_sp_noise, noise_data\n"
      ],
      "execution_count": 0,
      "outputs": []
    },
    {
      "cell_type": "markdown",
      "metadata": {
        "id": "S1z4sbPcOQqb",
        "colab_type": "text"
      },
      "source": [
        "Forward Modeling"
      ]
    },
    {
      "cell_type": "code",
      "metadata": {
        "id": "OECIkLS4OThj",
        "colab_type": "code",
        "colab": {}
      },
      "source": [
        "# === TEST FORWARD MODELING\n",
        "x0 = 77.07  # m\n",
        "alpha = 309.37 * (np.pi/180)    # deg2rad\n",
        "h = 41.81   # m\n",
        "K = 94686"
      ],
      "execution_count": 0,
      "outputs": []
    },
    {
      "cell_type": "markdown",
      "metadata": {
        "id": "ZtdfQzgKOX9T",
        "colab_type": "text"
      },
      "source": [
        "Calculating data"
      ]
    },
    {
      "cell_type": "code",
      "metadata": {
        "id": "M-rAqTspOa5u",
        "colab_type": "code",
        "colab": {
          "base_uri": "https://localhost:8080/",
          "height": 34
        },
        "outputId": "746ddd02-b223-44be-856e-2fad8d62264b"
      },
      "source": [
        "measure_loc = np.linspace(0, 150, 101)  # Location of measurement\n",
        "print('number of data: ', len(measure_loc))\n",
        "par_mod = [x0, alpha, h, K]      # model parameter of subsurface\n",
        "\n",
        "get_SPData, get_SPData_noise, noise_from_maxData = SPfunc(measure_loc, par_mod)"
      ],
      "execution_count": 18,
      "outputs": [
        {
          "output_type": "stream",
          "text": [
            "number of data:  101\n"
          ],
          "name": "stdout"
        }
      ]
    },
    {
      "cell_type": "markdown",
      "metadata": {
        "id": "NGyBw-XdOe8j",
        "colab_type": "text"
      },
      "source": [
        "Plotting"
      ]
    },
    {
      "cell_type": "code",
      "metadata": {
        "id": "YZh75zdaOhd0",
        "colab_type": "code",
        "colab": {
          "base_uri": "https://localhost:8080/",
          "height": 534
        },
        "outputId": "1a6d6704-114a-401e-96cd-5f854210a80e"
      },
      "source": [
        "plt.figure()\n",
        "plt.plot(measure_loc, get_SPData, 'b.')\n",
        "plt.plot(measure_loc, get_SPData_noise, 'r*')\n",
        "plt.xlim([0, 150])\n",
        "plt.ylim([-10, 50])\n",
        "plt.xlabel('position (m)')\n",
        "plt.ylabel('SP data (mV)')\n",
        "plt.legend(['ori', 'noise'])\n",
        "plt.grid()\n",
        "\n",
        "plt.figure()\n",
        "plt.hist(noise_from_maxData, density=True, bins=20)\n",
        "plt.ylabel('noise distribution')\n",
        "plt.show()"
      ],
      "execution_count": 21,
      "outputs": [
        {
          "output_type": "display_data",
          "data": {
            "image/png": "[encoded data removed]",
            "text/plain": [
              "<Figure size 432x288 with 1 Axes>"
            ]
          },
          "metadata": {
            "tags": []
          }
        },
        {
          "output_type": "display_data",
          "data": {
            "image/png": "[encoded data removed]",
            "text/plain": [
              "<Figure size 432x288 with 1 Axes>"
            ]
          },
          "metadata": {
            "tags": []
          }
        }
      ]
    },
    {
      "cell_type": "markdown",
      "metadata": {
        "id": "eA9HY6R6OkBA",
        "colab_type": "text"
      },
      "source": [
        "Save output"
      ]
    },
    {
      "cell_type": "code",
      "metadata": {
        "id": "4GMr10aFOmNd",
        "colab_type": "code",
        "colab": {}
      },
      "source": [
        "with open('SP_syn_data.pickle', 'wb') as f:\n",
        "    pickle.dump([measure_loc, get_SPData_noise], f)"
      ],
      "execution_count": 0,
      "outputs": []
    }
  ]
}